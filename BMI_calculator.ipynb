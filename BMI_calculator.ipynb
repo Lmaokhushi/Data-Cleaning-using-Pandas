{
 "cells": [
  {
   "cell_type": "code",
   "execution_count": 2,
   "id": "8632e772-b1a6-4d21-90b4-d0ffc185454e",
   "metadata": {},
   "outputs": [
    {
     "name": "stdin",
     "output_type": "stream",
     "text": [
      "Enter your name:  khushi\n",
      "Enter your weight in pounds:  200\n",
      "Enter your height in inches:  56\n"
     ]
    },
    {
     "name": "stdout",
     "output_type": "stream",
     "text": [
      "44.83418367346939\n",
      "khushi, you are morbidly obese\n"
     ]
    }
   ],
   "source": [
    "name = input(\"Enter your name: \")\n",
    "weight = int(input(\"Enter your weight in pounds: \"))\n",
    "height = int(input(\"Enter your height in inches: \"))\n",
    "\n",
    "BMI = (weight * 703)/(height * height)\n",
    "\n",
    "print(BMI)\n",
    "\n",
    "if (BMI>0):\n",
    "    if (BMI<18.5):\n",
    "         print(name + \", you are underweight\")\n",
    "    elif (BMI<=24.9):\n",
    "         print(name + \", you are normal weight\")\n",
    "    elif (BMI<=29.9):\n",
    "         print(name + \", you are overweight\")\n",
    "    elif (BMI<=34.9):\n",
    "         print(name + \", you are obese\")\n",
    "    elif (BMI<=39.9):\n",
    "         print(name + \", you are severely obese\")\n",
    "    else:\n",
    "         print(name + \", you are morbidly obese\")\n",
    "else:\n",
    "    print(\"Enter a valid value!\")\n"
   ]
  },
  {
   "cell_type": "code",
   "execution_count": null,
   "id": "003c164f-ccc6-4d1a-81a6-39909f806a99",
   "metadata": {},
   "outputs": [],
   "source": []
  }
 ],
 "metadata": {
  "kernelspec": {
   "display_name": "Python 3 (ipykernel)",
   "language": "python",
   "name": "python3"
  },
  "language_info": {
   "codemirror_mode": {
    "name": "ipython",
    "version": 3
   },
   "file_extension": ".py",
   "mimetype": "text/x-python",
   "name": "python",
   "nbconvert_exporter": "python",
   "pygments_lexer": "ipython3",
   "version": "3.11.7"
  }
 },
 "nbformat": 4,
 "nbformat_minor": 5
}
